{
 "cells": [
  {
   "cell_type": "markdown",
   "metadata": {},
   "source": [
    "## SFINCS - grpc4bmi example\n",
    "\n",
    "This notebook shows how the SFINCS BMI server built in this package can be used\n",
    "with grpc4bmi. It assumes you have built the docker container with\n",
    "\n",
    "```\n",
    "cd src\n",
    "docker build -t sfincs-bmiserver .\n",
    "```"
   ]
  },
  {
   "cell_type": "markdown",
   "metadata": {},
   "source": [
    "### Requirements\n",
    "\n",
    "We use grpc4bmi to communicate with the BMI model inside a container."
   ]
  },
  {
   "cell_type": "code",
   "execution_count": 1,
   "metadata": {},
   "outputs": [],
   "source": [
    "# pip installa grpc4bmi"
   ]
  },
  {
   "cell_type": "markdown",
   "metadata": {},
   "source": [
    "### Case specification\n",
    "\n",
    "SFINCS runs from within the working directory where the input files are located.\n",
    "CD to the humber case dir"
   ]
  },
  {
   "cell_type": "code",
   "execution_count": 2,
   "metadata": {},
   "outputs": [
    {
     "name": "stdout",
     "output_type": "stream",
     "text": [
      "/home/peter/ewatercycle/sfincs-bmi-server/cases/humber/sfincs_humber_executed\n",
      "\u001b[0m\u001b[01;34mfigs\u001b[0m/        log.txt     sfincs.bzs  sfincs.ind  sfincs.msk  sfincs.src\n",
      "\u001b[01;34mgis\u001b[0m/         precip.nc   sfincs.dep  sfincs.inp  sfincs.obs  sfincs_his.nc\n",
      "hydromt.log  sfincs.bnd  sfincs.dis  sfincs.man  sfincs.scs  sfincs_map.nc\n"
     ]
    }
   ],
   "source": [
    "%cd /home/peter/ewatercycle/sfincs-bmi-server/cases/humber/sfincs_humber_executed\n",
    "%ls"
   ]
  },
  {
   "cell_type": "markdown",
   "metadata": {},
   "source": [
    "Lets use the example parameter set in https://github.com/Deltares/hydromt_sfincs/tree/main/examples/sfincs_compound"
   ]
  },
  {
   "cell_type": "code",
   "execution_count": 1,
   "metadata": {},
   "outputs": [
    {
     "name": "stdout",
     "output_type": "stream",
     "text": [
      "fatal: destination path 'hydromt_sfincs' already exists and is not an empty directory.\n"
     ]
    }
   ],
   "source": [
    "# !git clone https://github.com/Deltares/hydromt_sfincs/\n",
    "# from pathlib import Path\n",
    "# parameter_set_dir = Path(\"hydromt_sfincs/examples/sfincs_compound\").absolute()"
   ]
  },
  {
   "cell_type": "markdown",
   "metadata": {},
   "source": [
    "Example above returns 0 for each time method, which is incorrect so we will use the alternate parameter set below"
   ]
  },
  {
   "cell_type": "code",
   "execution_count": null,
   "metadata": {},
   "outputs": [],
   "source": [
    "!cp -r ~/dcache/parameter-sets/sfincs_humber ./\n"
   ]
  },
  {
   "cell_type": "code",
   "execution_count": 1,
   "metadata": {},
   "outputs": [
    {
     "data": {
      "text/plain": [
       "PosixPath('/home/verhoes/git/eWaterCycle/sfincs-bmi-server/sfincs_humber')"
      ]
     },
     "execution_count": 1,
     "metadata": {},
     "output_type": "execute_result"
    }
   ],
   "source": [
    "from pathlib import Path\n",
    "parameter_set_dir = Path(\"sfincs_humber\").absolute()\n",
    "parameter_set_dir"
   ]
  },
  {
   "cell_type": "markdown",
   "metadata": {},
   "source": [
    "### Instantiate the model\n",
    "\n",
    "This starts the model container and connects the client to it.\n",
    "We can already get the component name"
   ]
  },
  {
   "cell_type": "code",
   "execution_count": 12,
   "metadata": {},
   "outputs": [],
   "source": [
    "from grpc4bmi.bmi_client_docker import BmiClientDocker\n",
    "import numpy as np"
   ]
  },
  {
   "cell_type": "code",
   "execution_count": 27,
   "metadata": {},
   "outputs": [],
   "source": [
    "model = BmiClientDocker(image='sfincs-bmiserver', image_port=50051, work_dir=str(parameter_set_dir), delay=1)\n"
   ]
  },
  {
   "cell_type": "markdown",
   "metadata": {},
   "source": [
    "Sometime stdout/stderr is swallowed start server manually\n",
    "\n",
    "```\n",
    "docker run -ti --rm \\\n",
    "-v /home/verhoes/git/eWaterCycle/sfincs-bmi-server/sfincs_humber:/home/verhoes/git/eWaterCycle/sfincs-bmi-server/sfincs_humber \\\n",
    "-w /home/verhoes/git/eWaterCycle/sfincs-bmi-server/sfincs_humber -p 50051:50051 \\\n",
    "--entrypoint /bin/bash \\\n",
    "sfincs-bmiserver\n",
    "# inside container\n",
    "/usr/local/bin/sfincs_bmi_server\n",
    "```\n",
    "\n",
    "and connect with\n",
    "\n",
    "```\n",
    "from grpc4bmi.bmi_grpc_client import BmiClient\n",
    "import grpc\n",
    "model = BmiClient(grpc.insecure_channel(\"localhost:50051\"))\n",
    "```\n"
   ]
  },
  {
   "cell_type": "code",
   "execution_count": 21,
   "metadata": {},
   "outputs": [
    {
     "data": {
      "text/plain": [
       "'Sfincs hydrodynamic model (C)'"
      ]
     },
     "execution_count": 21,
     "metadata": {},
     "output_type": "execute_result"
    }
   ],
   "source": [
    "model.get_component_name()"
   ]
  },
  {
   "cell_type": "markdown",
   "metadata": {},
   "source": [
    "### Interact with the model\n",
    "\n",
    "We can initialize the model and see that it had effect: time variables seem to be set from the input file"
   ]
  },
  {
   "cell_type": "code",
   "execution_count": 28,
   "metadata": {},
   "outputs": [
    {
     "data": {
      "text/plain": []
     },
     "execution_count": 28,
     "metadata": {},
     "output_type": "execute_result"
    }
   ],
   "source": [
    "model.initialize(str(parameter_set_dir / 'sfincs.inp'))"
   ]
  },
  {
   "cell_type": "code",
   "execution_count": 29,
   "metadata": {},
   "outputs": [],
   "source": [
    "model.update()"
   ]
  },
  {
   "cell_type": "code",
   "execution_count": 7,
   "metadata": {},
   "outputs": [
    {
     "data": {
      "text/plain": [
       "{'get_current_time': 950400.0,\n",
       " 'get_start_time': 950400.0,\n",
       " 'get_end_time': 950400.0,\n",
       " 'get_time_units': 's',\n",
       " 'get_time_step': 9.999999974752427e-07}"
      ]
     },
     "execution_count": 7,
     "metadata": {},
     "output_type": "execute_result"
    }
   ],
   "source": [
    "{\n",
    "    'get_current_time': model.get_current_time(), \n",
    "    'get_start_time':model.get_start_time(),\n",
    "    'get_end_time': model.get_end_time(), \n",
    "    'get_time_units': model.get_time_units(), \n",
    "    'get_time_step': model.get_time_step(),\n",
    "}"
   ]
  },
  {
   "cell_type": "code",
   "execution_count": 8,
   "metadata": {},
   "outputs": [
    {
     "data": {
      "text/plain": [
       "{'get_input_var_names': ('zs', 'zb', 'qtsrc', 'zst_bnd'),\n",
       " 'get_output_var_names': ('z_xz', 'z_yz', 'zs', 'zb', 'qtsrc', 'zst_bnd'),\n",
       " 'get_var_grid': 0,\n",
       " 'get_var_itemsize': 4,\n",
       " 'get_var_nbytes': 1254036,\n",
       " 'get_var_type': 'float',\n",
       " 'get_var_units': 'm above reference level'}"
      ]
     },
     "execution_count": 8,
     "metadata": {},
     "output_type": "execute_result"
    }
   ],
   "source": [
    "# Var methods\n",
    "{\n",
    "    'get_input_var_names': model.get_input_var_names(),\n",
    "    'get_output_var_names': model.get_output_var_names(),\n",
    "    'get_var_grid': model.get_var_grid('zs'),\n",
    "    'get_var_itemsize': model.get_var_itemsize('zs'),\n",
    "    'get_var_nbytes': model.get_var_nbytes('zs'),\n",
    "    'get_var_type': model.get_var_type('zs'),\n",
    "    'get_var_units': model.get_var_units('zs'),\n",
    "}"
   ]
  },
  {
   "cell_type": "code",
   "execution_count": 129,
   "metadata": {},
   "outputs": [],
   "source": [
    "# model.get_var_location('zs')\n",
    "# Throws grpc4bmi erorr, maybe because enum in C and Python not matching"
   ]
  },
  {
   "cell_type": "code",
   "execution_count": 9,
   "metadata": {},
   "outputs": [
    {
     "data": {
      "text/plain": [
       "{'get_grid_rank': 2, 'get_grid_size': 313509, 'get_grid_type': 'rectilinear'}"
      ]
     },
     "execution_count": 9,
     "metadata": {},
     "output_type": "execute_result"
    }
   ],
   "source": [
    "# Grid methods\n",
    "grid_id = 0\n",
    "{\n",
    "    'get_grid_rank': model.get_grid_rank(grid_id),\n",
    "    'get_grid_size': model.get_grid_size(grid_id),\n",
    "    'get_grid_type': model.get_grid_type(grid_id),\n",
    "}\n"
   ]
  },
  {
   "cell_type": "code",
   "execution_count": 30,
   "metadata": {},
   "outputs": [
    {
     "data": {
      "text/plain": [
       "array([313509,      7])"
      ]
     },
     "execution_count": 30,
     "metadata": {},
     "output_type": "execute_result"
    }
   ],
   "source": [
    "shape = model.get_grid_shape(grid_id, np.empty(model.get_grid_rank(grid_id), dtype=int))\n",
    "shape"
   ]
  },
  {
   "cell_type": "code",
   "execution_count": 11,
   "metadata": {},
   "outputs": [
    {
     "ename": "_InactiveRpcError",
     "evalue": "<_InactiveRpcError of RPC that terminated with:\n\tstatus = StatusCode.UNAVAILABLE\n\tdetails = \"Socket closed\"\n\tdebug_error_string = \"UNKNOWN:Error received from peer ipv4:127.0.0.1:37329 {created_time:\"2023-10-31T14:13:25.167536345+01:00\", grpc_status:14, grpc_message:\"Socket closed\"}\"\n>",
     "output_type": "error",
     "traceback": [
      "\u001b[0;31m---------------------------------------------------------------------------\u001b[0m",
      "\u001b[0;31m_InactiveRpcError\u001b[0m                         Traceback (most recent call last)",
      "\u001b[1;32m/home/verhoes/git/eWaterCycle/sfincs-bmi-server/example_notebook.ipynb Cell 24\u001b[0m line \u001b[0;36m1\n\u001b[0;32m----> <a href='vscode-notebook-cell:/home/verhoes/git/eWaterCycle/sfincs-bmi-server/example_notebook.ipynb#X45sZmlsZQ%3D%3D?line=0'>1</a>\u001b[0m x \u001b[39m=\u001b[39m model\u001b[39m.\u001b[39;49mget_grid_x(grid_id, np\u001b[39m.\u001b[39;49mempty(shape[\u001b[39m1\u001b[39;49m]))\n\u001b[1;32m      <a href='vscode-notebook-cell:/home/verhoes/git/eWaterCycle/sfincs-bmi-server/example_notebook.ipynb#X45sZmlsZQ%3D%3D?line=1'>2</a>\u001b[0m x\n\u001b[1;32m      <a href='vscode-notebook-cell:/home/verhoes/git/eWaterCycle/sfincs-bmi-server/example_notebook.ipynb#X45sZmlsZQ%3D%3D?line=2'>3</a>\u001b[0m \u001b[39m# Gives segmentation fault which kills container, probably because the size of the array is not correct\u001b[39;00m\n",
      "File \u001b[0;32m~/mambaforge/envs/ewatercycle/lib/python3.10/site-packages/grpc4bmi/bmi_grpc_client.py:349\u001b[0m, in \u001b[0;36mBmiClient.get_grid_x\u001b[0;34m(self, grid, x)\u001b[0m\n\u001b[1;32m    347\u001b[0m     \u001b[39mreturn\u001b[39;00m x\n\u001b[1;32m    348\u001b[0m \u001b[39mexcept\u001b[39;00m grpc\u001b[39m.\u001b[39mRpcError \u001b[39mas\u001b[39;00m e:\n\u001b[0;32m--> 349\u001b[0m     handle_error(e)\n",
      "File \u001b[0;32m~/mambaforge/envs/ewatercycle/lib/python3.10/site-packages/grpc4bmi/bmi_grpc_client.py:345\u001b[0m, in \u001b[0;36mBmiClient.get_grid_x\u001b[0;34m(self, grid, x)\u001b[0m\n\u001b[1;32m    343\u001b[0m \u001b[39mdef\u001b[39;00m \u001b[39mget_grid_x\u001b[39m(\u001b[39mself\u001b[39m, grid, x):\n\u001b[1;32m    344\u001b[0m     \u001b[39mtry\u001b[39;00m:\n\u001b[0;32m--> 345\u001b[0m         src \u001b[39m=\u001b[39m numpy\u001b[39m.\u001b[39marray(\u001b[39mself\u001b[39;49m\u001b[39m.\u001b[39;49mstub\u001b[39m.\u001b[39;49mgetGridX(bmi_pb2\u001b[39m.\u001b[39;49mGridRequest(grid_id\u001b[39m=\u001b[39;49mgrid))\u001b[39m.\u001b[39mcoordinates)\n\u001b[1;32m    346\u001b[0m         numpy\u001b[39m.\u001b[39mcopyto(src\u001b[39m=\u001b[39msrc, dst\u001b[39m=\u001b[39mx)\n\u001b[1;32m    347\u001b[0m         \u001b[39mreturn\u001b[39;00m x\n",
      "File \u001b[0;32m~/mambaforge/envs/ewatercycle/lib/python3.10/site-packages/grpc/_channel.py:946\u001b[0m, in \u001b[0;36m_UnaryUnaryMultiCallable.__call__\u001b[0;34m(self, request, timeout, metadata, credentials, wait_for_ready, compression)\u001b[0m\n\u001b[1;32m    937\u001b[0m \u001b[39mdef\u001b[39;00m \u001b[39m__call__\u001b[39m(\u001b[39mself\u001b[39m,\n\u001b[1;32m    938\u001b[0m              request,\n\u001b[1;32m    939\u001b[0m              timeout\u001b[39m=\u001b[39m\u001b[39mNone\u001b[39;00m,\n\u001b[0;32m   (...)\u001b[0m\n\u001b[1;32m    942\u001b[0m              wait_for_ready\u001b[39m=\u001b[39m\u001b[39mNone\u001b[39;00m,\n\u001b[1;32m    943\u001b[0m              compression\u001b[39m=\u001b[39m\u001b[39mNone\u001b[39;00m):\n\u001b[1;32m    944\u001b[0m     state, call, \u001b[39m=\u001b[39m \u001b[39mself\u001b[39m\u001b[39m.\u001b[39m_blocking(request, timeout, metadata, credentials,\n\u001b[1;32m    945\u001b[0m                                   wait_for_ready, compression)\n\u001b[0;32m--> 946\u001b[0m     \u001b[39mreturn\u001b[39;00m _end_unary_response_blocking(state, call, \u001b[39mFalse\u001b[39;49;00m, \u001b[39mNone\u001b[39;49;00m)\n",
      "File \u001b[0;32m~/mambaforge/envs/ewatercycle/lib/python3.10/site-packages/grpc/_channel.py:849\u001b[0m, in \u001b[0;36m_end_unary_response_blocking\u001b[0;34m(state, call, with_call, deadline)\u001b[0m\n\u001b[1;32m    847\u001b[0m         \u001b[39mreturn\u001b[39;00m state\u001b[39m.\u001b[39mresponse\n\u001b[1;32m    848\u001b[0m \u001b[39melse\u001b[39;00m:\n\u001b[0;32m--> 849\u001b[0m     \u001b[39mraise\u001b[39;00m _InactiveRpcError(state)\n",
      "\u001b[0;31m_InactiveRpcError\u001b[0m: <_InactiveRpcError of RPC that terminated with:\n\tstatus = StatusCode.UNAVAILABLE\n\tdetails = \"Socket closed\"\n\tdebug_error_string = \"UNKNOWN:Error received from peer ipv4:127.0.0.1:37329 {created_time:\"2023-10-31T14:13:25.167536345+01:00\", grpc_status:14, grpc_message:\"Socket closed\"}\"\n>"
     ]
    }
   ],
   "source": [
    "# x = model.get_grid_x(grid_id, np.empty(shape[1]))\n",
    "# x\n",
    "# Gives segmentation fault which kills container, probably because the size of the array is not correct"
   ]
  },
  {
   "cell_type": "code",
   "execution_count": 18,
   "metadata": {},
   "outputs": [
    {
     "data": {
      "text/plain": [
       "array([-8.96797761e+14,  4.57594014e-41,  6.32876000e+05, ...,\n",
       "        7.07476000e+05,  7.07576000e+05,  7.07676000e+05])"
      ]
     },
     "execution_count": 18,
     "metadata": {},
     "output_type": "execute_result"
    }
   ],
   "source": [
    "# water level\n",
    "model.get_value('zs', np.zeros(shape[0]))"
   ]
  },
  {
   "cell_type": "markdown",
   "metadata": {},
   "source": [
    "Updating the model should advance the model time. However, the initial timestep\n",
    "is very small! The get_current_time value doesn't even seem to render to such\n",
    "precision. This way it will take a million update steps just to advance the\n",
    "model 1 time unit."
   ]
  },
  {
   "cell_type": "code",
   "execution_count": 26,
   "metadata": {},
   "outputs": [
    {
     "name": "stdout",
     "output_type": "stream",
     "text": [
      "950400.0 9.999999974752427e-07\n",
      "950400.0 9.999999974752427e-07\n",
      "950400.0 9.999999974752427e-07\n",
      "950400.0 9.999999974752427e-07\n",
      "950400.0 9.999999974752427e-07\n",
      "950400.0 9.999999974752427e-07\n",
      "950400.0 9.999999974752427e-07\n",
      "950400.0 9.999999974752427e-07\n",
      "950400.0 9.999999974752427e-07\n",
      "950400.0 9.999999974752427e-07\n"
     ]
    }
   ],
   "source": [
    "for i in range(10):\n",
    "    print(model.get_current_time(), model.get_time_step())\n",
    "    model.update()\n",
    "    "
   ]
  },
  {
   "cell_type": "markdown",
   "metadata": {},
   "source": [
    "Let's try getting it past the first 10 time units..."
   ]
  },
  {
   "cell_type": "code",
   "execution_count": 8,
   "metadata": {},
   "outputs": [
    {
     "name": "stderr",
     "output_type": "stream",
     "text": [
      "Exception ignored in: <function BmiClientDocker.__del__ at 0x7fef2406ef80>\n",
      "Traceback (most recent call last):\n",
      "  File \"/home/verhoes/mambaforge/envs/ewatercycle/lib/python3.10/site-packages/grpc4bmi/bmi_client_docker.py\", line 105, in __del__\n",
      "    self.container.stop()\n",
      "AttributeError: 'BmiClientDocker' object has no attribute 'container'\n"
     ]
    },
    {
     "ename": "KeyboardInterrupt",
     "evalue": "",
     "output_type": "error",
     "traceback": [
      "\u001b[0;31m---------------------------------------------------------------------------\u001b[0m",
      "\u001b[0;31mKeyboardInterrupt\u001b[0m                         Traceback (most recent call last)",
      "\u001b[1;32m/home/verhoes/git/eWaterCycle/sfincs-bmi-server/example_notebook.ipynb Cell 18\u001b[0m line \u001b[0;36m4\n\u001b[1;32m      <a href='vscode-notebook-cell:/home/verhoes/git/eWaterCycle/sfincs-bmi-server/example_notebook.ipynb#X15sZmlsZQ%3D%3D?line=1'>2</a>\u001b[0m \u001b[39mwhile\u001b[39;00m t \u001b[39m<\u001b[39m model\u001b[39m.\u001b[39mget_start_time() \u001b[39m+\u001b[39m \u001b[39m10\u001b[39m:\n\u001b[1;32m      <a href='vscode-notebook-cell:/home/verhoes/git/eWaterCycle/sfincs-bmi-server/example_notebook.ipynb#X15sZmlsZQ%3D%3D?line=2'>3</a>\u001b[0m     model\u001b[39m.\u001b[39mupdate()\n\u001b[0;32m----> <a href='vscode-notebook-cell:/home/verhoes/git/eWaterCycle/sfincs-bmi-server/example_notebook.ipynb#X15sZmlsZQ%3D%3D?line=3'>4</a>\u001b[0m     t \u001b[39m=\u001b[39m model\u001b[39m.\u001b[39;49mget_current_time()\n\u001b[1;32m      <a href='vscode-notebook-cell:/home/verhoes/git/eWaterCycle/sfincs-bmi-server/example_notebook.ipynb#X15sZmlsZQ%3D%3D?line=5'>6</a>\u001b[0m \u001b[39mprint\u001b[39m(t)\n",
      "File \u001b[0;32m~/mambaforge/envs/ewatercycle/lib/python3.10/site-packages/grpc4bmi/bmi_grpc_client.py:168\u001b[0m, in \u001b[0;36mBmiClient.get_current_time\u001b[0;34m(self)\u001b[0m\n\u001b[1;32m    166\u001b[0m \u001b[39mdef\u001b[39;00m \u001b[39mget_current_time\u001b[39m(\u001b[39mself\u001b[39m):\n\u001b[1;32m    167\u001b[0m     \u001b[39mtry\u001b[39;00m:\n\u001b[0;32m--> 168\u001b[0m         \u001b[39mreturn\u001b[39;00m \u001b[39mself\u001b[39;49m\u001b[39m.\u001b[39;49mstub\u001b[39m.\u001b[39;49mgetCurrentTime(bmi_pb2\u001b[39m.\u001b[39;49mEmpty())\u001b[39m.\u001b[39mtime\n\u001b[1;32m    169\u001b[0m     \u001b[39mexcept\u001b[39;00m grpc\u001b[39m.\u001b[39mRpcError \u001b[39mas\u001b[39;00m e:\n\u001b[1;32m    170\u001b[0m         handle_error(e)\n",
      "File \u001b[0;32m~/mambaforge/envs/ewatercycle/lib/python3.10/site-packages/grpc/_channel.py:944\u001b[0m, in \u001b[0;36m_UnaryUnaryMultiCallable.__call__\u001b[0;34m(self, request, timeout, metadata, credentials, wait_for_ready, compression)\u001b[0m\n\u001b[1;32m    937\u001b[0m \u001b[39mdef\u001b[39;00m \u001b[39m__call__\u001b[39m(\u001b[39mself\u001b[39m,\n\u001b[1;32m    938\u001b[0m              request,\n\u001b[1;32m    939\u001b[0m              timeout\u001b[39m=\u001b[39m\u001b[39mNone\u001b[39;00m,\n\u001b[0;32m   (...)\u001b[0m\n\u001b[1;32m    942\u001b[0m              wait_for_ready\u001b[39m=\u001b[39m\u001b[39mNone\u001b[39;00m,\n\u001b[1;32m    943\u001b[0m              compression\u001b[39m=\u001b[39m\u001b[39mNone\u001b[39;00m):\n\u001b[0;32m--> 944\u001b[0m     state, call, \u001b[39m=\u001b[39m \u001b[39mself\u001b[39;49m\u001b[39m.\u001b[39;49m_blocking(request, timeout, metadata, credentials,\n\u001b[1;32m    945\u001b[0m                                   wait_for_ready, compression)\n\u001b[1;32m    946\u001b[0m     \u001b[39mreturn\u001b[39;00m _end_unary_response_blocking(state, call, \u001b[39mFalse\u001b[39;00m, \u001b[39mNone\u001b[39;00m)\n",
      "File \u001b[0;32m~/mambaforge/envs/ewatercycle/lib/python3.10/site-packages/grpc/_channel.py:933\u001b[0m, in \u001b[0;36m_UnaryUnaryMultiCallable._blocking\u001b[0;34m(self, request, timeout, metadata, credentials, wait_for_ready, compression)\u001b[0m\n\u001b[1;32m    925\u001b[0m \u001b[39melse\u001b[39;00m:\n\u001b[1;32m    926\u001b[0m     call \u001b[39m=\u001b[39m \u001b[39mself\u001b[39m\u001b[39m.\u001b[39m_channel\u001b[39m.\u001b[39msegregated_call(\n\u001b[1;32m    927\u001b[0m         cygrpc\u001b[39m.\u001b[39mPropagationConstants\u001b[39m.\u001b[39mGRPC_PROPAGATE_DEFAULTS,\n\u001b[1;32m    928\u001b[0m         \u001b[39mself\u001b[39m\u001b[39m.\u001b[39m_method, \u001b[39mNone\u001b[39;00m, _determine_deadline(deadline), metadata,\n\u001b[0;32m   (...)\u001b[0m\n\u001b[1;32m    931\u001b[0m             \u001b[39mNone\u001b[39;00m,\n\u001b[1;32m    932\u001b[0m         ),), \u001b[39mself\u001b[39m\u001b[39m.\u001b[39m_context)\n\u001b[0;32m--> 933\u001b[0m     event \u001b[39m=\u001b[39m call\u001b[39m.\u001b[39;49mnext_event()\n\u001b[1;32m    934\u001b[0m     _handle_event(event, state, \u001b[39mself\u001b[39m\u001b[39m.\u001b[39m_response_deserializer)\n\u001b[1;32m    935\u001b[0m     \u001b[39mreturn\u001b[39;00m state, call\n",
      "File \u001b[0;32msrc/python/grpcio/grpc/_cython/_cygrpc/channel.pyx.pxi:338\u001b[0m, in \u001b[0;36mgrpc._cython.cygrpc.SegregatedCall.next_event\u001b[0;34m()\u001b[0m\n",
      "File \u001b[0;32msrc/python/grpcio/grpc/_cython/_cygrpc/channel.pyx.pxi:171\u001b[0m, in \u001b[0;36mgrpc._cython.cygrpc._next_call_event\u001b[0;34m()\u001b[0m\n",
      "File \u001b[0;32m~/mambaforge/envs/ewatercycle/lib/python3.10/threading.py:264\u001b[0m, in \u001b[0;36mCondition.__enter__\u001b[0;34m(self)\u001b[0m\n\u001b[1;32m    261\u001b[0m     \u001b[39mself\u001b[39m\u001b[39m.\u001b[39m_lock\u001b[39m.\u001b[39m_at_fork_reinit()\n\u001b[1;32m    262\u001b[0m     \u001b[39mself\u001b[39m\u001b[39m.\u001b[39m_waiters\u001b[39m.\u001b[39mclear()\n\u001b[0;32m--> 264\u001b[0m \u001b[39mdef\u001b[39;00m \u001b[39m__enter__\u001b[39m(\u001b[39mself\u001b[39m):\n\u001b[1;32m    265\u001b[0m     \u001b[39mreturn\u001b[39;00m \u001b[39mself\u001b[39m\u001b[39m.\u001b[39m_lock\u001b[39m.\u001b[39m\u001b[39m__enter__\u001b[39m()\n\u001b[1;32m    267\u001b[0m \u001b[39mdef\u001b[39;00m \u001b[39m__exit__\u001b[39m(\u001b[39mself\u001b[39m, \u001b[39m*\u001b[39margs):\n",
      "\u001b[0;31mKeyboardInterrupt\u001b[0m: "
     ]
    }
   ],
   "source": [
    "t = model.get_current_time()\n",
    "while t < model.get_start_time() + 10:\n",
    "    model.update()\n",
    "    t = model.get_current_time()\n",
    "\n",
    "print(t)"
   ]
  },
  {
   "cell_type": "code",
   "execution_count": 27,
   "metadata": {},
   "outputs": [
    {
     "name": "stdout",
     "output_type": "stream",
     "text": [
      "950400.0 9.999999974752427e-07\n"
     ]
    }
   ],
   "source": [
    "print(model.get_current_time(), model.get_time_step())"
   ]
  },
  {
   "cell_type": "markdown",
   "metadata": {},
   "source": [
    "After 10 minutes, nothing seems to have happened!\n",
    "\n",
    "When I enforced the timestep to be 1 instead of `model.get_time_step()` (in the\n",
    "c++ wrapper), the model actually did advance and the time step value also\n",
    "changed to a more logical value (order of 1)."
   ]
  },
  {
   "cell_type": "code",
   "execution_count": 28,
   "metadata": {},
   "outputs": [
    {
     "name": "stdout",
     "output_type": "stream",
     "text": [
      "BMI grpc server attached to server address 0.0.0.0:50051\n",
      " BMI init start\n",
      " config file: /home/verhoes/git/eWaterCycle/sfincs-bmi-server/sfincs_humber/sfincs.inp\n",
      "\n",
      " ----------- Welcome to SFINCS -----------\n",
      "\n",
      "  @@@@@  @@@@@@@ @@ @@  @@   @@@@   @@@@@ \n",
      " @@@ @@@ @@@@@@@ @@ @@@ @@ @@@@@@@ @@@ @@@\n",
      " @@@     @@      @@ @@@ @@ @@   @@ @@@    \n",
      "  @@@@@  @@@@@@  @@ @@@@@@ @@       @@@@@ \n",
      "     @@@ @@      @@ @@ @@@ @@   @@     @@@\n",
      " @@@ @@@ @@      @@ @@  @@  @@@@@@ @@@ @@@\n",
      "  @@@@@  @@      @@ @@   @   @@@@   @@@@@ \n",
      "\n",
      "              ..............              \n",
      "          ......:@@@@@@@@:......          \n",
      "       ..::::..@@........@@.:::::..       \n",
      "     ..:::::..@@..::..::..@@.::::::..     \n",
      "    .::::::..@@............@@.:::::::.    \n",
      "   .::::::..@@..............@@.:::::::.   \n",
      "  .::::::::..@@............@@..::::::::.  \n",
      " .:::::::::...@@.@..@@..@.@@..::::::::::. \n",
      " .:::::::::...:@@@..@@..@@@:..:::::::::.. \n",
      " ............@@.@@..@@..@@.@@............ \n",
      " ^^^~~^^~~^^@@..............@@^^^~^^^~~^^ \n",
      " .::::::::::@@..............@@.:::::::::. \n",
      "  .......:.@@.....@.....@....@@.:.......  \n",
      "   .::....@@......@.@@@.@....@@.....::.   \n",
      "    .:::~@@.:...:.@@...@@.:.:.@@~::::.    \n",
      "     .::~@@@@@@@@@@.....@@@@@@@@@~::.     \n",
      "       ..:~~~~~~~:.......:~~~~~~~:..      \n",
      "          ......................          \n",
      "              ..............              \n",
      "\n",
      " -----------------------------------------\n",
      "\n",
      " Build-Revision: $Rev: v2.0.3-alpha:PR-48_update-sfincs-bmi\n",
      " Build-Date:     $Date: 2023-10-27\n",
      "\n",
      " Reading input file ...\n",
      " Reading mmax\n",
      " Reading nmax\n",
      " Reading dx\n",
      " Reading dy\n",
      " Reading x0\n",
      " Reading y0\n",
      " Reading rotation\n",
      " Reading tref\n",
      " Reading tstart\n",
      " Reading tstop\n",
      " Reading tspinup\n",
      " Reading dtout\n",
      " Reading dtmaxout\n",
      " Reading dtrstout\n",
      " Reading trstout\n",
      " Reading dthisout\n",
      " Reading dtwnd\n",
      " Reading alpha\n",
      " Reading theta\n",
      " Reading manning\n",
      " Reading zsini\n",
      " Reading dtmax\n",
      " Reading huthresh\n",
      " Reading rhoa\n",
      " Reading rhow\n",
      " Reading inputformat\n",
      " Reading outputformat\n",
      " Reading advection\n",
      " Reading latitude\n",
      " Reading pavbnd\n",
      " Reading gapres\n",
      " Reading baro\n",
      " Reading epsg\n",
      " Reading epsg\n",
      " Reading stopdepth\n",
      " Reading btfilter\n",
      " Reading crsgeo\n",
      " Reading viscosity\n",
      " Reading depfile\n",
      " Reading mskfile\n",
      " Reading indexfile\n",
      " Reading manningfile\n",
      " Reading bndfile\n",
      " Reading bzsfile\n",
      " Reading srcfile\n",
      " Reading disfile\n",
      " Reading scsfile\n",
      " Reading netamprfile\n",
      " Reading obsfile\n",
      " Reading cdnrb\n",
      " Reading cdwnd\n",
      " Reading cdval\n",
      " Info : Running SFINCS in regular mode ...\n",
      " Turning on process: Viscosity, with nuvisc=    1.00000000    \n",
      " Reading meteo data ...\n",
      " Reading FEWS compatible NetCDF type precipitation input ...\n",
      " Info : Preparing SFINCS grid on regular mesh ...\n",
      " Turning on process: Precipitation\n",
      " Turning on flag: meteo3d\n",
      " Reading sfincs.ind ...\n",
      " Reading sfincs.msk ...\n",
      " Number of active z points    :       313509\n",
      " Number of active u/v points  :       621144\n",
      " Reading sfincs.dep\n",
      " Reading sfincs.man\n",
      " Turning on process: Infiltration (via Curve Number method - A)\n",
      " Reading sfincs.scs\n",
      " Reading water level boundaries ...\n",
      " Reading observation points ...\n",
      " Reading discharges ...\n",
      " Initializing output ...\n",
      " BMI init end\n",
      "\n",
      " ---------- Starting simulation ----------\n",
      "\n",
      "\n",
      " ---------- Starting simulation ----------\n",
      "\n",
      "\n",
      " ---------- Starting simulation ----------\n",
      "\n",
      "\n",
      " ---------- Starting simulation ----------\n",
      "\n",
      "\n",
      " ---------- Starting simulation ----------\n",
      "\n",
      "\n",
      " ---------- Starting simulation ----------\n",
      "\n",
      "\n",
      " ---------- Starting simulation ----------\n",
      "\n",
      "\n",
      " ---------- Starting simulation ----------\n",
      "\n",
      "\n",
      " ---------- Starting simulation ----------\n",
      "\n",
      "\n",
      " ---------- Starting simulation ----------\n",
      "\n",
      "\n",
      " ---------- Starting simulation ----------\n",
      "\n",
      "\n"
     ]
    }
   ],
   "source": [
    "print(model.container.logs().decode())"
   ]
  },
  {
   "cell_type": "code",
   "execution_count": 16,
   "metadata": {},
   "outputs": [],
   "source": [
    "# model.container.stop()"
   ]
  },
  {
   "cell_type": "code",
   "execution_count": 25,
   "metadata": {},
   "outputs": [
    {
     "ename": "_InactiveRpcError",
     "evalue": "<_InactiveRpcError of RPC that terminated with:\n\tstatus = StatusCode.UNAVAILABLE\n\tdetails = \"Socket closed\"\n\tdebug_error_string = \"UNKNOWN:Error received from peer ipv4:127.0.0.1:49089 {grpc_message:\"Socket closed\", grpc_status:14, created_time:\"2023-10-31T14:16:07.537850043+01:00\"}\"\n>",
     "output_type": "error",
     "traceback": [
      "\u001b[0;31m---------------------------------------------------------------------------\u001b[0m",
      "\u001b[0;31m_InactiveRpcError\u001b[0m                         Traceback (most recent call last)",
      "\u001b[1;32m/home/verhoes/git/eWaterCycle/sfincs-bmi-server/example_notebook.ipynb Cell 34\u001b[0m line \u001b[0;36m1\n\u001b[0;32m----> <a href='vscode-notebook-cell:/home/verhoes/git/eWaterCycle/sfincs-bmi-server/example_notebook.ipynb#X41sZmlsZQ%3D%3D?line=0'>1</a>\u001b[0m model\u001b[39m.\u001b[39;49mset_value(\u001b[39m'\u001b[39;49m\u001b[39mzs\u001b[39;49m\u001b[39m'\u001b[39;49m, np\u001b[39m.\u001b[39;49mzeros(shape[\u001b[39m0\u001b[39;49m]))\n",
      "File \u001b[0;32m~/mambaforge/envs/ewatercycle/lib/python3.10/site-packages/grpc4bmi/bmi_grpc_client.py:300\u001b[0m, in \u001b[0;36mBmiClient.set_value\u001b[0;34m(self, name, values)\u001b[0m\n\u001b[1;32m    298\u001b[0m     \u001b[39mself\u001b[39m\u001b[39m.\u001b[39mstub\u001b[39m.\u001b[39msetValue(request)\n\u001b[1;32m    299\u001b[0m \u001b[39mexcept\u001b[39;00m grpc\u001b[39m.\u001b[39mRpcError \u001b[39mas\u001b[39;00m e:\n\u001b[0;32m--> 300\u001b[0m     handle_error(e)\n",
      "File \u001b[0;32m~/mambaforge/envs/ewatercycle/lib/python3.10/site-packages/grpc4bmi/bmi_grpc_client.py:298\u001b[0m, in \u001b[0;36mBmiClient.set_value\u001b[0;34m(self, name, values)\u001b[0m\n\u001b[1;32m    296\u001b[0m     \u001b[39melse\u001b[39;00m:\n\u001b[1;32m    297\u001b[0m         \u001b[39mraise\u001b[39;00m \u001b[39mNotImplementedError\u001b[39;00m(\u001b[39m\"\u001b[39m\u001b[39mArrays with type \u001b[39m\u001b[39m%s\u001b[39;00m\u001b[39m cannot be transmitted through this GRPC channel\u001b[39m\u001b[39m\"\u001b[39m \u001b[39m%\u001b[39m values\u001b[39m.\u001b[39mdtype)\n\u001b[0;32m--> 298\u001b[0m     \u001b[39mself\u001b[39;49m\u001b[39m.\u001b[39;49mstub\u001b[39m.\u001b[39;49msetValue(request)\n\u001b[1;32m    299\u001b[0m \u001b[39mexcept\u001b[39;00m grpc\u001b[39m.\u001b[39mRpcError \u001b[39mas\u001b[39;00m e:\n\u001b[1;32m    300\u001b[0m     handle_error(e)\n",
      "File \u001b[0;32m~/mambaforge/envs/ewatercycle/lib/python3.10/site-packages/grpc/_channel.py:946\u001b[0m, in \u001b[0;36m_UnaryUnaryMultiCallable.__call__\u001b[0;34m(self, request, timeout, metadata, credentials, wait_for_ready, compression)\u001b[0m\n\u001b[1;32m    937\u001b[0m \u001b[39mdef\u001b[39;00m \u001b[39m__call__\u001b[39m(\u001b[39mself\u001b[39m,\n\u001b[1;32m    938\u001b[0m              request,\n\u001b[1;32m    939\u001b[0m              timeout\u001b[39m=\u001b[39m\u001b[39mNone\u001b[39;00m,\n\u001b[0;32m   (...)\u001b[0m\n\u001b[1;32m    942\u001b[0m              wait_for_ready\u001b[39m=\u001b[39m\u001b[39mNone\u001b[39;00m,\n\u001b[1;32m    943\u001b[0m              compression\u001b[39m=\u001b[39m\u001b[39mNone\u001b[39;00m):\n\u001b[1;32m    944\u001b[0m     state, call, \u001b[39m=\u001b[39m \u001b[39mself\u001b[39m\u001b[39m.\u001b[39m_blocking(request, timeout, metadata, credentials,\n\u001b[1;32m    945\u001b[0m                                   wait_for_ready, compression)\n\u001b[0;32m--> 946\u001b[0m     \u001b[39mreturn\u001b[39;00m _end_unary_response_blocking(state, call, \u001b[39mFalse\u001b[39;49;00m, \u001b[39mNone\u001b[39;49;00m)\n",
      "File \u001b[0;32m~/mambaforge/envs/ewatercycle/lib/python3.10/site-packages/grpc/_channel.py:849\u001b[0m, in \u001b[0;36m_end_unary_response_blocking\u001b[0;34m(state, call, with_call, deadline)\u001b[0m\n\u001b[1;32m    847\u001b[0m         \u001b[39mreturn\u001b[39;00m state\u001b[39m.\u001b[39mresponse\n\u001b[1;32m    848\u001b[0m \u001b[39melse\u001b[39;00m:\n\u001b[0;32m--> 849\u001b[0m     \u001b[39mraise\u001b[39;00m _InactiveRpcError(state)\n",
      "\u001b[0;31m_InactiveRpcError\u001b[0m: <_InactiveRpcError of RPC that terminated with:\n\tstatus = StatusCode.UNAVAILABLE\n\tdetails = \"Socket closed\"\n\tdebug_error_string = \"UNKNOWN:Error received from peer ipv4:127.0.0.1:49089 {grpc_message:\"Socket closed\", grpc_status:14, created_time:\"2023-10-31T14:16:07.537850043+01:00\"}\"\n>"
     ]
    }
   ],
   "source": [
    "model.set_value('zs', np.zeros(shape[0]))\n"
   ]
  },
  {
   "cell_type": "code",
   "execution_count": 31,
   "metadata": {},
   "outputs": [
    {
     "data": {
      "text/plain": [
       "array([1.65429988e+34, 4.57355793e-41, 0.00000000e+00, ...,\n",
       "       0.00000000e+00, 0.00000000e+00, 0.00000000e+00])"
      ]
     },
     "execution_count": 31,
     "metadata": {},
     "output_type": "execute_result"
    }
   ],
   "source": [
    "\n",
    "model.get_value('zs', np.zeros(shape[0]))"
   ]
  },
  {
   "cell_type": "code",
   "execution_count": null,
   "metadata": {},
   "outputs": [],
   "source": []
  }
 ],
 "metadata": {
  "kernelspec": {
   "display_name": "ewatercycle",
   "language": "python",
   "name": "python3"
  },
  "language_info": {
   "codemirror_mode": {
    "name": "ipython",
    "version": 3
   },
   "file_extension": ".py",
   "mimetype": "text/x-python",
   "name": "python",
   "nbconvert_exporter": "python",
   "pygments_lexer": "ipython3",
   "version": "3.10.9"
  },
  "orig_nbformat": 4
 },
 "nbformat": 4,
 "nbformat_minor": 2
}
