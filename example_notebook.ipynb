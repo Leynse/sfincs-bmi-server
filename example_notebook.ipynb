{
 "cells": [
  {
   "cell_type": "markdown",
   "metadata": {},
   "source": [
    "## SFINCS - grpc4bmi example\n",
    "\n",
    "This notebook shows how the SFINCS BMI server built in this package can be used\n",
    "with grpc4bmi. It assumes you have built the docker container with\n",
    "\n",
    "```\n",
    "docker build -t sfincs-bmiserver .\n",
    "```"
   ]
  },
  {
   "cell_type": "markdown",
   "metadata": {},
   "source": [
    "### Requirements\n",
    "\n",
    "We use grpc4bmi to communicate with the BMI model inside a container."
   ]
  },
  {
   "cell_type": "code",
   "execution_count": 1,
   "metadata": {},
   "outputs": [],
   "source": [
    "# pip installa grpc4bmi"
   ]
  },
  {
   "cell_type": "markdown",
   "metadata": {},
   "source": [
    "### Case specification\n",
    "\n",
    "SFINCS runs from within the working directory where the input files are located.\n",
    "CD to the humber case dir"
   ]
  },
  {
   "cell_type": "code",
   "execution_count": 2,
   "metadata": {},
   "outputs": [
    {
     "name": "stdout",
     "output_type": "stream",
     "text": [
      "/home/peter/ewatercycle/sfincs-bmi-server/cases/humber/sfincs_humber_executed\n",
      "\u001b[0m\u001b[01;34mfigs\u001b[0m/        log.txt     sfincs.bzs  sfincs.ind  sfincs.msk  sfincs.src\n",
      "\u001b[01;34mgis\u001b[0m/         precip.nc   sfincs.dep  sfincs.inp  sfincs.obs  sfincs_his.nc\n",
      "hydromt.log  sfincs.bnd  sfincs.dis  sfincs.man  sfincs.scs  sfincs_map.nc\n"
     ]
    }
   ],
   "source": [
    "%cd /home/peter/ewatercycle/sfincs-bmi-server/cases/humber/sfincs_humber_executed\n",
    "%ls"
   ]
  },
  {
   "cell_type": "markdown",
   "metadata": {},
   "source": [
    "The use example from https://github.com/Deltares/hydromt_sfincs repo as case specification."
   ]
  },
  {
   "cell_type": "code",
   "execution_count": null,
   "metadata": {},
   "outputs": [],
   "source": [
    "%git clone https://github.com/Deltares/hydromt_sfincs"
   ]
  },
  {
   "cell_type": "code",
   "execution_count": 1,
   "metadata": {},
   "outputs": [
    {
     "name": "stdout",
     "output_type": "stream",
     "text": [
      "/home/verhoes/git/eWaterCycle/sfincs-bmi-server/hydromt_sfincs/examples/sfincs_compound\n"
     ]
    }
   ],
   "source": [
    "%cd hydromt_sfincs/examples/sfincs_compound"
   ]
  },
  {
   "cell_type": "markdown",
   "metadata": {},
   "source": [
    "### Instantiate the model\n",
    "\n",
    "This starts the model container and connects the client to it.\n",
    "We can already get the component name"
   ]
  },
  {
   "cell_type": "code",
   "execution_count": 2,
   "metadata": {},
   "outputs": [
    {
     "data": {
      "text/plain": [
       "'Sfincs hydrodynamic model (C)'"
      ]
     },
     "execution_count": 2,
     "metadata": {},
     "output_type": "execute_result"
    }
   ],
   "source": [
    "from grpc4bmi.bmi_client_docker import BmiClientDocker\n",
    "model = BmiClientDocker(image='sfincs-bmiserver', image_port=50051, work_dir=\"./\")\n",
    "model.get_component_name()"
   ]
  },
  {
   "cell_type": "markdown",
   "metadata": {},
   "source": [
    "### Interact with the model\n",
    "\n",
    "We can initialize the model and see that it had effect: time variables seem to be set from the input file"
   ]
  },
  {
   "cell_type": "code",
   "execution_count": 3,
   "metadata": {},
   "outputs": [
    {
     "data": {
      "text/plain": [
       "(0.0, 0.0, 86400.0)"
      ]
     },
     "execution_count": 3,
     "metadata": {},
     "output_type": "execute_result"
    }
   ],
   "source": [
    "model.initialize('sfincs.inp')\n",
    "model.get_current_time(), model.get_start_time(), model.get_end_time()"
   ]
  },
  {
   "cell_type": "markdown",
   "metadata": {},
   "source": [
    "Updating the model should advance the model time. However, the initial timestep\n",
    "is very small! The get_current_time value doesn't even seem to render to such\n",
    "precision. This way it will take a million update steps just to advance the\n",
    "model 1 time unit."
   ]
  },
  {
   "cell_type": "code",
   "execution_count": 4,
   "metadata": {},
   "outputs": [
    {
     "name": "stdout",
     "output_type": "stream",
     "text": [
      "0.0 9.999999974752427e-07\n",
      "3.258591413497925 3.258591413497925\n",
      "6.51718282699585 3.258591413497925\n",
      "9.775774240493774 3.258591413497925\n",
      "13.0343656539917 3.258591413497925\n",
      "19.55154848098755 3.258591413497925\n",
      "26.0687313079834 3.258591413497925\n",
      "29.327322721481323 3.258591413497925\n",
      "35.84450554847717 3.258591413497925\n",
      "39.1030969619751 3.258591413497925\n"
     ]
    }
   ],
   "source": [
    "for i in range(10):\n",
    "    print(model.get_current_time(), model.get_time_step())\n",
    "    model.update()\n",
    "    "
   ]
  },
  {
   "cell_type": "markdown",
   "metadata": {},
   "source": [
    "Let's try getting it past the first 10 time units..."
   ]
  },
  {
   "cell_type": "code",
   "execution_count": 5,
   "metadata": {},
   "outputs": [
    {
     "name": "stdout",
     "output_type": "stream",
     "text": [
      "42.36168837547302\n"
     ]
    }
   ],
   "source": [
    "t = model.get_current_time()\n",
    "while t < model.get_start_time() + 10:\n",
    "    model.update()\n",
    "    t = model.get_current_time()\n",
    "\n",
    "print(t)"
   ]
  },
  {
   "cell_type": "code",
   "execution_count": 6,
   "metadata": {},
   "outputs": [
    {
     "name": "stdout",
     "output_type": "stream",
     "text": [
      "42.36168837547302 3.258591413497925\n"
     ]
    }
   ],
   "source": [
    "print(model.get_current_time(), model.get_time_step())"
   ]
  },
  {
   "cell_type": "code",
   "execution_count": 7,
   "metadata": {},
   "outputs": [
    {
     "ename": "_InactiveRpcError",
     "evalue": "<_InactiveRpcError of RPC that terminated with:\n\tstatus = StatusCode.INTERNAL\n\tdetails = \"Not Implemented\"\n\tdebug_error_string = \"UNKNOWN:Error received from peer ipv4:127.0.0.1:50029 {created_time:\"2023-09-29T11:31:04.29291013+02:00\", grpc_status:13, grpc_message:\"Not Implemented\"}\"\n>",
     "output_type": "error",
     "traceback": [
      "\u001b[0;31m---------------------------------------------------------------------------\u001b[0m",
      "\u001b[0;31m_InactiveRpcError\u001b[0m                         Traceback (most recent call last)",
      "\u001b[1;32m/home/verhoes/git/eWaterCycle/sfincs-bmi-server/example_notebook.ipynb Cell 18\u001b[0m line \u001b[0;36m1\n\u001b[0;32m----> <a href='vscode-notebook-cell:/home/verhoes/git/eWaterCycle/sfincs-bmi-server/example_notebook.ipynb#X24sZmlsZQ%3D%3D?line=0'>1</a>\u001b[0m model\u001b[39m.\u001b[39;49mget_output_var_names()\n",
      "File \u001b[0;32m~/mambaforge/envs/ewatercycle/lib/python3.10/site-packages/grpc4bmi/bmi_grpc_client.py:151\u001b[0m, in \u001b[0;36mBmiClient.get_output_var_names\u001b[0;34m(self)\u001b[0m\n\u001b[1;32m    149\u001b[0m     \u001b[39mreturn\u001b[39;00m \u001b[39mtuple\u001b[39m([\u001b[39mstr\u001b[39m(s) \u001b[39mfor\u001b[39;00m s \u001b[39min\u001b[39;00m \u001b[39mself\u001b[39m\u001b[39m.\u001b[39mstub\u001b[39m.\u001b[39mgetOutputVarNames(bmi_pb2\u001b[39m.\u001b[39mEmpty())\u001b[39m.\u001b[39mnames])\n\u001b[1;32m    150\u001b[0m \u001b[39mexcept\u001b[39;00m grpc\u001b[39m.\u001b[39mRpcError \u001b[39mas\u001b[39;00m e:\n\u001b[0;32m--> 151\u001b[0m     handle_error(e)\n",
      "File \u001b[0;32m~/mambaforge/envs/ewatercycle/lib/python3.10/site-packages/grpc4bmi/bmi_grpc_client.py:149\u001b[0m, in \u001b[0;36mBmiClient.get_output_var_names\u001b[0;34m(self)\u001b[0m\n\u001b[1;32m    147\u001b[0m \u001b[39mdef\u001b[39;00m \u001b[39mget_output_var_names\u001b[39m(\u001b[39mself\u001b[39m):\n\u001b[1;32m    148\u001b[0m     \u001b[39mtry\u001b[39;00m:\n\u001b[0;32m--> 149\u001b[0m         \u001b[39mreturn\u001b[39;00m \u001b[39mtuple\u001b[39m([\u001b[39mstr\u001b[39m(s) \u001b[39mfor\u001b[39;00m s \u001b[39min\u001b[39;00m \u001b[39mself\u001b[39;49m\u001b[39m.\u001b[39;49mstub\u001b[39m.\u001b[39;49mgetOutputVarNames(bmi_pb2\u001b[39m.\u001b[39;49mEmpty())\u001b[39m.\u001b[39mnames])\n\u001b[1;32m    150\u001b[0m     \u001b[39mexcept\u001b[39;00m grpc\u001b[39m.\u001b[39mRpcError \u001b[39mas\u001b[39;00m e:\n\u001b[1;32m    151\u001b[0m         handle_error(e)\n",
      "File \u001b[0;32m~/mambaforge/envs/ewatercycle/lib/python3.10/site-packages/grpc/_channel.py:946\u001b[0m, in \u001b[0;36m_UnaryUnaryMultiCallable.__call__\u001b[0;34m(self, request, timeout, metadata, credentials, wait_for_ready, compression)\u001b[0m\n\u001b[1;32m    937\u001b[0m \u001b[39mdef\u001b[39;00m \u001b[39m__call__\u001b[39m(\u001b[39mself\u001b[39m,\n\u001b[1;32m    938\u001b[0m              request,\n\u001b[1;32m    939\u001b[0m              timeout\u001b[39m=\u001b[39m\u001b[39mNone\u001b[39;00m,\n\u001b[0;32m   (...)\u001b[0m\n\u001b[1;32m    942\u001b[0m              wait_for_ready\u001b[39m=\u001b[39m\u001b[39mNone\u001b[39;00m,\n\u001b[1;32m    943\u001b[0m              compression\u001b[39m=\u001b[39m\u001b[39mNone\u001b[39;00m):\n\u001b[1;32m    944\u001b[0m     state, call, \u001b[39m=\u001b[39m \u001b[39mself\u001b[39m\u001b[39m.\u001b[39m_blocking(request, timeout, metadata, credentials,\n\u001b[1;32m    945\u001b[0m                                   wait_for_ready, compression)\n\u001b[0;32m--> 946\u001b[0m     \u001b[39mreturn\u001b[39;00m _end_unary_response_blocking(state, call, \u001b[39mFalse\u001b[39;49;00m, \u001b[39mNone\u001b[39;49;00m)\n",
      "File \u001b[0;32m~/mambaforge/envs/ewatercycle/lib/python3.10/site-packages/grpc/_channel.py:849\u001b[0m, in \u001b[0;36m_end_unary_response_blocking\u001b[0;34m(state, call, with_call, deadline)\u001b[0m\n\u001b[1;32m    847\u001b[0m         \u001b[39mreturn\u001b[39;00m state\u001b[39m.\u001b[39mresponse\n\u001b[1;32m    848\u001b[0m \u001b[39melse\u001b[39;00m:\n\u001b[0;32m--> 849\u001b[0m     \u001b[39mraise\u001b[39;00m _InactiveRpcError(state)\n",
      "\u001b[0;31m_InactiveRpcError\u001b[0m: <_InactiveRpcError of RPC that terminated with:\n\tstatus = StatusCode.INTERNAL\n\tdetails = \"Not Implemented\"\n\tdebug_error_string = \"UNKNOWN:Error received from peer ipv4:127.0.0.1:50029 {created_time:\"2023-09-29T11:31:04.29291013+02:00\", grpc_status:13, grpc_message:\"Not Implemented\"}\"\n>"
     ]
    }
   ],
   "source": [
    "model.get_output_var_names()"
   ]
  },
  {
   "cell_type": "markdown",
   "metadata": {},
   "source": [
    "After 10 minutes, nothing seems to have happened!\n",
    "\n",
    "When I enforced the timestep to be 1 instead of `model.get_time_step()` (in the\n",
    "c++ wrapper), the model actually did advance and the time step value also\n",
    "changed to a more logical value (order of 1)."
   ]
  }
 ],
 "metadata": {
  "kernelspec": {
   "display_name": "ewatercycle",
   "language": "python",
   "name": "python3"
  },
  "language_info": {
   "codemirror_mode": {
    "name": "ipython",
    "version": 3
   },
   "file_extension": ".py",
   "mimetype": "text/x-python",
   "name": "python",
   "nbconvert_exporter": "python",
   "pygments_lexer": "ipython3",
   "version": "3.10.9"
  },
  "orig_nbformat": 4
 },
 "nbformat": 4,
 "nbformat_minor": 2
}
