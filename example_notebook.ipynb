{
 "cells": [
  {
   "cell_type": "markdown",
   "metadata": {},
   "source": [
    "## SFINCS - grpc4bmi example\n",
    "\n",
    "This notebook shows how the SFINCS BMI server built in this package can be used\n",
    "with grpc4bmi. It assumes you have built the docker container with\n",
    "\n",
    "```\n",
    "cd src\n",
    "docker build -t sfincs-bmiserver .\n",
    "```"
   ]
  },
  {
   "cell_type": "markdown",
   "metadata": {},
   "source": [
    "### Requirements\n",
    "\n",
    "We use grpc4bmi to communicate with the BMI model inside a container."
   ]
  },
  {
   "cell_type": "code",
   "execution_count": 1,
   "metadata": {},
   "outputs": [],
   "source": [
    "# pip installa grpc4bmi"
   ]
  },
  {
   "cell_type": "markdown",
   "metadata": {},
   "source": [
    "### Case specification\n",
    "\n",
    "SFINCS runs from within the working directory where the input files are located.\n",
    "CD to the humber case dir"
   ]
  },
  {
   "cell_type": "code",
   "execution_count": 2,
   "metadata": {},
   "outputs": [
    {
     "name": "stdout",
     "output_type": "stream",
     "text": [
      "/home/peter/ewatercycle/sfincs-bmi-server/cases/humber/sfincs_humber_executed\n",
      "\u001b[0m\u001b[01;34mfigs\u001b[0m/        log.txt     sfincs.bzs  sfincs.ind  sfincs.msk  sfincs.src\n",
      "\u001b[01;34mgis\u001b[0m/         precip.nc   sfincs.dep  sfincs.inp  sfincs.obs  sfincs_his.nc\n",
      "hydromt.log  sfincs.bnd  sfincs.dis  sfincs.man  sfincs.scs  sfincs_map.nc\n"
     ]
    }
   ],
   "source": [
    "%cd /home/peter/ewatercycle/sfincs-bmi-server/cases/humber/sfincs_humber_executed\n",
    "%ls"
   ]
  },
  {
   "cell_type": "markdown",
   "metadata": {},
   "source": [
    "### Instantiate the model\n",
    "\n",
    "This starts the model container and connects the client to it.\n",
    "We can already get the component name"
   ]
  },
  {
   "cell_type": "code",
   "execution_count": 3,
   "metadata": {},
   "outputs": [
    {
     "data": {
      "text/plain": [
       "'Sfincs hydrodynamic model (C)'"
      ]
     },
     "execution_count": 3,
     "metadata": {},
     "output_type": "execute_result"
    }
   ],
   "source": [
    "from grpc4bmi.bmi_client_docker import BmiClientDocker\n",
    "model = BmiClientDocker(image='sfincs-bmiserver', image_port=50051, work_dir=\"./\")\n",
    "model.get_component_name()"
   ]
  },
  {
   "cell_type": "markdown",
   "metadata": {},
   "source": [
    "### Interact with the model\n",
    "\n",
    "We can initialize the model and see that it had effect: time variables seem to be set from the input file"
   ]
  },
  {
   "cell_type": "code",
   "execution_count": 4,
   "metadata": {},
   "outputs": [
    {
     "data": {
      "text/plain": [
       "(950400.0, 950400.0, 1728000.0)"
      ]
     },
     "execution_count": 4,
     "metadata": {},
     "output_type": "execute_result"
    }
   ],
   "source": [
    "model.initialize('sfincs.inp')\n",
    "model.get_current_time(), model.get_start_time(), model.get_end_time()"
   ]
  },
  {
   "cell_type": "markdown",
   "metadata": {},
   "source": [
    "Updating the model should advance the model time. However, the initial timestep\n",
    "is very small! The get_current_time value doesn't even seem to render to such\n",
    "precision. This way it will take a million update steps just to advance the\n",
    "model 1 time unit."
   ]
  },
  {
   "cell_type": "code",
   "execution_count": 5,
   "metadata": {},
   "outputs": [
    {
     "name": "stdout",
     "output_type": "stream",
     "text": [
      "950400.0 9.999999974752427e-07\n",
      "950400.0 9.999999974752427e-07\n",
      "950400.0 9.999999974752427e-07\n",
      "950400.0 9.999999974752427e-07\n",
      "950400.0 9.999999974752427e-07\n",
      "950400.0 9.999999974752427e-07\n",
      "950400.0 9.999999974752427e-07\n",
      "950400.0 9.999999974752427e-07\n",
      "950400.0 9.999999974752427e-07\n",
      "950400.0 9.999999974752427e-07\n"
     ]
    }
   ],
   "source": [
    "for i in range(10):\n",
    "    print(model.get_current_time(), model.get_time_step())\n",
    "    model.update()\n",
    "    "
   ]
  },
  {
   "cell_type": "markdown",
   "metadata": {},
   "source": [
    "Let's try getting it past the first 10 time units..."
   ]
  },
  {
   "cell_type": "code",
   "execution_count": 6,
   "metadata": {},
   "outputs": [
    {
     "ename": "KeyboardInterrupt",
     "evalue": "",
     "output_type": "error",
     "traceback": [
      "\u001b[0;31m---------------------------------------------------------------------------\u001b[0m",
      "\u001b[0;31mKeyboardInterrupt\u001b[0m                         Traceback (most recent call last)",
      "\u001b[1;32m/home/peter/ewatercycle/sfincs-bmi-server/example_notebook.ipynb Cell 12\u001b[0m line \u001b[0;36m2\n\u001b[1;32m      <a href='vscode-notebook-cell://wsl%2Bubuntu-22.04/home/peter/ewatercycle/sfincs-bmi-server/example_notebook.ipynb#W0sdnNjb2RlLXJlbW90ZQ%3D%3D?line=0'>1</a>\u001b[0m t \u001b[39m=\u001b[39m model\u001b[39m.\u001b[39mget_current_time()\n\u001b[0;32m----> <a href='vscode-notebook-cell://wsl%2Bubuntu-22.04/home/peter/ewatercycle/sfincs-bmi-server/example_notebook.ipynb#W0sdnNjb2RlLXJlbW90ZQ%3D%3D?line=1'>2</a>\u001b[0m \u001b[39mwhile\u001b[39;00m t \u001b[39m<\u001b[39m model\u001b[39m.\u001b[39;49mget_start_time() \u001b[39m+\u001b[39m \u001b[39m10\u001b[39m:\n\u001b[1;32m      <a href='vscode-notebook-cell://wsl%2Bubuntu-22.04/home/peter/ewatercycle/sfincs-bmi-server/example_notebook.ipynb#W0sdnNjb2RlLXJlbW90ZQ%3D%3D?line=2'>3</a>\u001b[0m     model\u001b[39m.\u001b[39mupdate()\n\u001b[1;32m      <a href='vscode-notebook-cell://wsl%2Bubuntu-22.04/home/peter/ewatercycle/sfincs-bmi-server/example_notebook.ipynb#W0sdnNjb2RlLXJlbW90ZQ%3D%3D?line=3'>4</a>\u001b[0m     t \u001b[39m=\u001b[39m model\u001b[39m.\u001b[39mget_current_time()\n",
      "File \u001b[0;32m~/mambaforge/envs/ewatercycle/lib/python3.10/site-packages/grpc4bmi/bmi_grpc_client.py:174\u001b[0m, in \u001b[0;36mBmiClient.get_start_time\u001b[0;34m(self)\u001b[0m\n\u001b[1;32m    172\u001b[0m \u001b[39mdef\u001b[39;00m \u001b[39mget_start_time\u001b[39m(\u001b[39mself\u001b[39m):\n\u001b[1;32m    173\u001b[0m     \u001b[39mtry\u001b[39;00m:\n\u001b[0;32m--> 174\u001b[0m         \u001b[39mreturn\u001b[39;00m \u001b[39mself\u001b[39;49m\u001b[39m.\u001b[39;49mstub\u001b[39m.\u001b[39;49mgetStartTime(bmi_pb2\u001b[39m.\u001b[39;49mEmpty())\u001b[39m.\u001b[39mtime\n\u001b[1;32m    175\u001b[0m     \u001b[39mexcept\u001b[39;00m grpc\u001b[39m.\u001b[39mRpcError \u001b[39mas\u001b[39;00m e:\n\u001b[1;32m    176\u001b[0m         handle_error(e)\n",
      "File \u001b[0;32m~/mambaforge/envs/ewatercycle/lib/python3.10/site-packages/grpc/_channel.py:944\u001b[0m, in \u001b[0;36m_UnaryUnaryMultiCallable.__call__\u001b[0;34m(self, request, timeout, metadata, credentials, wait_for_ready, compression)\u001b[0m\n\u001b[1;32m    937\u001b[0m \u001b[39mdef\u001b[39;00m \u001b[39m__call__\u001b[39m(\u001b[39mself\u001b[39m,\n\u001b[1;32m    938\u001b[0m              request,\n\u001b[1;32m    939\u001b[0m              timeout\u001b[39m=\u001b[39m\u001b[39mNone\u001b[39;00m,\n\u001b[0;32m   (...)\u001b[0m\n\u001b[1;32m    942\u001b[0m              wait_for_ready\u001b[39m=\u001b[39m\u001b[39mNone\u001b[39;00m,\n\u001b[1;32m    943\u001b[0m              compression\u001b[39m=\u001b[39m\u001b[39mNone\u001b[39;00m):\n\u001b[0;32m--> 944\u001b[0m     state, call, \u001b[39m=\u001b[39m \u001b[39mself\u001b[39;49m\u001b[39m.\u001b[39;49m_blocking(request, timeout, metadata, credentials,\n\u001b[1;32m    945\u001b[0m                                   wait_for_ready, compression)\n\u001b[1;32m    946\u001b[0m     \u001b[39mreturn\u001b[39;00m _end_unary_response_blocking(state, call, \u001b[39mFalse\u001b[39;00m, \u001b[39mNone\u001b[39;00m)\n",
      "File \u001b[0;32m~/mambaforge/envs/ewatercycle/lib/python3.10/site-packages/grpc/_channel.py:926\u001b[0m, in \u001b[0;36m_UnaryUnaryMultiCallable._blocking\u001b[0;34m(self, request, timeout, metadata, credentials, wait_for_ready, compression)\u001b[0m\n\u001b[1;32m    924\u001b[0m     \u001b[39mraise\u001b[39;00m rendezvous  \u001b[39m# pylint: disable-msg=raising-bad-type\u001b[39;00m\n\u001b[1;32m    925\u001b[0m \u001b[39melse\u001b[39;00m:\n\u001b[0;32m--> 926\u001b[0m     call \u001b[39m=\u001b[39m \u001b[39mself\u001b[39;49m\u001b[39m.\u001b[39;49m_channel\u001b[39m.\u001b[39;49msegregated_call(\n\u001b[1;32m    927\u001b[0m         cygrpc\u001b[39m.\u001b[39;49mPropagationConstants\u001b[39m.\u001b[39;49mGRPC_PROPAGATE_DEFAULTS,\n\u001b[1;32m    928\u001b[0m         \u001b[39mself\u001b[39;49m\u001b[39m.\u001b[39;49m_method, \u001b[39mNone\u001b[39;49;00m, _determine_deadline(deadline), metadata,\n\u001b[1;32m    929\u001b[0m         \u001b[39mNone\u001b[39;49;00m \u001b[39mif\u001b[39;49;00m credentials \u001b[39mis\u001b[39;49;00m \u001b[39mNone\u001b[39;49;00m \u001b[39melse\u001b[39;49;00m credentials\u001b[39m.\u001b[39;49m_credentials, ((\n\u001b[1;32m    930\u001b[0m             operations,\n\u001b[1;32m    931\u001b[0m             \u001b[39mNone\u001b[39;49;00m,\n\u001b[1;32m    932\u001b[0m         ),), \u001b[39mself\u001b[39;49m\u001b[39m.\u001b[39;49m_context)\n\u001b[1;32m    933\u001b[0m     event \u001b[39m=\u001b[39m call\u001b[39m.\u001b[39mnext_event()\n\u001b[1;32m    934\u001b[0m     _handle_event(event, state, \u001b[39mself\u001b[39m\u001b[39m.\u001b[39m_response_deserializer)\n",
      "File \u001b[0;32msrc/python/grpcio/grpc/_cython/_cygrpc/channel.pyx.pxi:496\u001b[0m, in \u001b[0;36mgrpc._cython.cygrpc.Channel.segregated_call\u001b[0;34m()\u001b[0m\n",
      "File \u001b[0;32msrc/python/grpcio/grpc/_cython/_cygrpc/channel.pyx.pxi:366\u001b[0m, in \u001b[0;36mgrpc._cython.cygrpc._segregated_call\u001b[0;34m()\u001b[0m\n",
      "File \u001b[0;32msrc/python/grpcio/grpc/_cython/_cygrpc/channel.pyx.pxi:360\u001b[0m, in \u001b[0;36mgrpc._cython.cygrpc._segregated_call\u001b[0;34m()\u001b[0m\n",
      "File \u001b[0;32msrc/python/grpcio/grpc/_cython/_cygrpc/channel.pyx.pxi:218\u001b[0m, in \u001b[0;36mgrpc._cython.cygrpc._call\u001b[0;34m()\u001b[0m\n",
      "File \u001b[0;32m~/mambaforge/envs/ewatercycle/lib/python3.10/threading.py:267\u001b[0m, in \u001b[0;36mCondition.__exit__\u001b[0;34m(self, *args)\u001b[0m\n\u001b[1;32m    264\u001b[0m \u001b[39mdef\u001b[39;00m \u001b[39m__enter__\u001b[39m(\u001b[39mself\u001b[39m):\n\u001b[1;32m    265\u001b[0m     \u001b[39mreturn\u001b[39;00m \u001b[39mself\u001b[39m\u001b[39m.\u001b[39m_lock\u001b[39m.\u001b[39m\u001b[39m__enter__\u001b[39m()\n\u001b[0;32m--> 267\u001b[0m \u001b[39mdef\u001b[39;00m \u001b[39m__exit__\u001b[39m(\u001b[39mself\u001b[39m, \u001b[39m*\u001b[39margs):\n\u001b[1;32m    268\u001b[0m     \u001b[39mreturn\u001b[39;00m \u001b[39mself\u001b[39m\u001b[39m.\u001b[39m_lock\u001b[39m.\u001b[39m\u001b[39m__exit__\u001b[39m(\u001b[39m*\u001b[39margs)\n\u001b[1;32m    270\u001b[0m \u001b[39mdef\u001b[39;00m \u001b[39m__repr__\u001b[39m(\u001b[39mself\u001b[39m):\n",
      "\u001b[0;31mKeyboardInterrupt\u001b[0m: "
     ]
    }
   ],
   "source": [
    "t = model.get_current_time()\n",
    "while t < model.get_start_time() + 10:\n",
    "    model.update()\n",
    "    t = model.get_current_time()\n",
    "\n",
    "print(t)"
   ]
  },
  {
   "cell_type": "code",
   "execution_count": 7,
   "metadata": {},
   "outputs": [
    {
     "name": "stdout",
     "output_type": "stream",
     "text": [
      "950400.0 9.999999974752427e-07\n"
     ]
    }
   ],
   "source": [
    "print(model.get_current_time(), model.get_time_step())"
   ]
  },
  {
   "cell_type": "markdown",
   "metadata": {},
   "source": [
    "After 10 minutes, nothing seems to have happened!\n",
    "\n",
    "When I enforced the timestep to be 1 instead of `model.get_time_step()` (in the\n",
    "c++ wrapper), the model actually did advance and the time step value also\n",
    "changed to a more logical value (order of 1)."
   ]
  }
 ],
 "metadata": {
  "kernelspec": {
   "display_name": "ewatercycle",
   "language": "python",
   "name": "python3"
  },
  "language_info": {
   "codemirror_mode": {
    "name": "ipython",
    "version": 3
   },
   "file_extension": ".py",
   "mimetype": "text/x-python",
   "name": "python",
   "nbconvert_exporter": "python",
   "pygments_lexer": "ipython3",
   "version": "3.10.9"
  },
  "orig_nbformat": 4
 },
 "nbformat": 4,
 "nbformat_minor": 2
}
